{
 "cells": [
  {
   "cell_type": "markdown",
   "metadata": {},
   "source": [
    "# Лекция №4. Объектно-ориентированное программирование\n",
    "\n",
    "П.Н. Советов, РТУ МИРЭА"
   ]
  },
  {
   "cell_type": "markdown",
   "metadata": {},
   "source": [
    "В Питоне каждое значение является объектом какого-то класса (типа). С помощью ООП можно создавать объекты пользовательских классов. Основы ООП вам уже знакомы на примерах языков C++ и Java, поэтому сконцентрируемся на особенностях реализации этой парадигмы программирования в Питоне. Эти особенности связаны с динамической природой Питона."
   ]
  },
  {
   "cell_type": "markdown",
   "metadata": {},
   "source": [
    "## Классы\n",
    "\n",
    "Класс определяет пространство имен, в котором находятся функции и другие атрибуты класса. Новый класс создается с помощью ключевого слова `class`:"
   ]
  },
  {
   "cell_type": "code",
   "execution_count": 6,
   "metadata": {},
   "outputs": [
    {
     "name": "stdout",
     "output_type": "stream",
     "text": [
      "MyClass\n",
      "10 11\n"
     ]
    }
   ],
   "source": [
    "class MyClass:\n",
    "    some_var = 10 # Переменная класса\n",
    "\n",
    "    print('MyClass')\n",
    "    \n",
    "    def foo(): # Статический метод\n",
    "        return MyClass.some_var + 1   \n",
    "   \n",
    "print(MyClass.some_var, MyClass.foo())"
   ]
  },
  {
   "cell_type": "markdown",
   "metadata": {},
   "source": [
    "Обращение к атрибутам классов, как и в случае с модулями, осуществляется через `.`.\n",
    "\n",
    "Обратите внимание, что блок внутри `class` выполняется, как и любой другой блок. Поэтому и сработал `print` в примере выше, хотя, разумеется, практического смысла в его добавлении не было."
   ]
  },
  {
   "cell_type": "markdown",
   "metadata": {},
   "source": [
    "## Объекты"
   ]
  },
  {
   "cell_type": "markdown",
   "metadata": {},
   "source": [
    "Объекты, то есть экземпляры класса, создаются с помощью вызова имени класса, как функции. "
   ]
  },
  {
   "cell_type": "code",
   "execution_count": 7,
   "metadata": {},
   "outputs": [
    {
     "name": "stdout",
     "output_type": "stream",
     "text": [
      "(1, 2) (3, 4)\n"
     ]
    }
   ],
   "source": [
    "class Point:\n",
    "    pass\n",
    "\n",
    "p1, p2 = Point(), Point()\n",
    "p1.x, p1.y = 1, 2 # Динамически добавляем атрибуты объекта (лучше так не делать)\n",
    "p2.x, p2.y = 3, 4\n",
    "print((p1.x, p1.y), (p2.x, p2.y))"
   ]
  },
  {
   "cell_type": "markdown",
   "metadata": {},
   "source": [
    "В примере выше был неявно вызван конструктор по умолчанию. С использованием переопределения конструктора, который имеет специальное имя — `__init__`, инициализацию объекта можно упростить:"
   ]
  },
  {
   "cell_type": "code",
   "execution_count": 8,
   "metadata": {},
   "outputs": [
    {
     "name": "stdout",
     "output_type": "stream",
     "text": [
      "<__main__.Point object at 0x0000018E722F7E80> 1 2\n"
     ]
    }
   ],
   "source": [
    "import math\n",
    "\n",
    "class Point:\n",
    "    def __init__(self, x, y): # Метод конструктора\n",
    "        self.x = x\n",
    "        self.y = y\n",
    "    \n",
    "    def magnitude(self):\n",
    "        return math.sqrt(self.x**2 + self.y**2)\n",
    "\n",
    "p = Point(1, 2)\n",
    "print(p, p.x, p.y)"
   ]
  },
  {
   "cell_type": "markdown",
   "metadata": {},
   "source": [
    "Обратите внимание на параметр `self` в конструкторе. Роль этого параметра аналогична `this` в C++, то есть `self` содержит таблицу с атрибутами только что созданного объекта. В Питоне, как известно, не используется явное определение переменных, поэтому обращение к атрибутам и добавление новых атрибутов объекта необходимо осуществлять с использованием префикса `self.`. Помните, что `self` в списке аргументов метода должен всегда присутствовать первым."
   ]
  },
  {
   "cell_type": "markdown",
   "metadata": {},
   "source": [
    "С использованием предопределенных атрибутов можно динамически выяснять различную информацию по поводу конкретных объектов и классов:"
   ]
  },
  {
   "cell_type": "code",
   "execution_count": 9,
   "metadata": {
    "scrolled": false
   },
   "outputs": [
    {
     "name": "stdout",
     "output_type": "stream",
     "text": [
      "<class '__main__.Point'>\n",
      "Point\n"
     ]
    }
   ],
   "source": [
    "print(p.__class__) # Класс объекта\n",
    "print(p.__class__.__name__) # Имя класса объекта"
   ]
  },
  {
   "cell_type": "markdown",
   "metadata": {},
   "source": [
    "## Методы\n",
    "\n",
    "Рассмотрим следующий пример:"
   ]
  },
  {
   "cell_type": "code",
   "execution_count": 10,
   "metadata": {},
   "outputs": [
    {
     "name": "stdout",
     "output_type": "stream",
     "text": [
      "<bound method Point.magnitude of <__main__.Point object at 0x0000018E722F7E80>> 2.23606797749979\n"
     ]
    }
   ],
   "source": [
    "m = p.magnitude\n",
    "print(m, m())"
   ]
  },
  {
   "cell_type": "markdown",
   "metadata": {},
   "source": [
    "Под «bound method» подразумевается ссылка на метод, уже связанный со своим объектом. Поэтому в примере выше оказался возможным вызов этого метода в `m` без указания объекта."
   ]
  },
  {
   "cell_type": "markdown",
   "metadata": {},
   "source": [
    "С помощью встроенной функции `getattr` можно получить доступ к атрибуту класса по имени атрибута в виде строки:"
   ]
  },
  {
   "cell_type": "code",
   "execution_count": 11,
   "metadata": {
    "scrolled": true
   },
   "outputs": [
    {
     "data": {
      "text/plain": [
       "2.23606797749979"
      ]
     },
     "execution_count": 11,
     "metadata": {},
     "output_type": "execute_result"
    }
   ],
   "source": [
    "getattr(p, 'magnitude')()"
   ]
  },
  {
   "cell_type": "markdown",
   "metadata": {},
   "source": [
    "Специальные типы методов можно определить с помощью декораторов (о них мы еще поговорим в одной из следующих лекций):"
   ]
  },
  {
   "cell_type": "code",
   "execution_count": 12,
   "metadata": {
    "scrolled": true
   },
   "outputs": [
    {
     "name": "stdout",
     "output_type": "stream",
     "text": [
      "42\n",
      "2 20\n"
     ]
    }
   ],
   "source": [
    "class MyClass:\n",
    "    def __init__(self, x):\n",
    "        self.x = x\n",
    "    \n",
    "    @staticmethod # Статический метод\n",
    "    def my_static_method(x):\n",
    "        return x\n",
    "    \n",
    "    @classmethod # Метод класса\n",
    "    def my_constructor(cls, x):\n",
    "        return cls(x)\n",
    "    \n",
    "    @property # Вычисляемое свойство\n",
    "    def size(self):\n",
    "        return self.x * 10\n",
    "\n",
    "print(MyClass.my_static_method(42))\n",
    "mc = MyClass.my_constructor(2)\n",
    "print(mc.x, mc.size)"
   ]
  },
  {
   "cell_type": "markdown",
   "metadata": {},
   "source": [
    "Выведем на экран атрибуты объекта класса `Point`:"
   ]
  },
  {
   "cell_type": "code",
   "execution_count": 13,
   "metadata": {
    "scrolled": true
   },
   "outputs": [
    {
     "name": "stdout",
     "output_type": "stream",
     "text": [
      "['__class__', '__delattr__', '__dict__', '__dir__', '__doc__', '__eq__', '__format__', '__ge__', '__getattribute__', '__gt__', '__hash__', '__init__', '__init_subclass__', '__le__', '__lt__', '__module__', '__ne__', '__new__', '__reduce__', '__reduce_ex__', '__repr__', '__setattr__', '__sizeof__', '__str__', '__subclasshook__', '__weakref__', 'magnitude', 'x', 'y']\n"
     ]
    }
   ],
   "source": [
    "print(dir(p)) # "
   ]
  },
  {
   "cell_type": "markdown",
   "metadata": {},
   "source": [
    "В Питоне имеется целый ряд специальных или «магических» методов в духе `__метод__`, имеющих предопределенное назначение. Из примера видно, что у объекта имеется ряд методов, которые мы не определяли. Можно, в частности, переопределить `__str__` (вывод строкового представления объекта) и `__repr__` (вывод строкового представления кода, создающего объект):"
   ]
  },
  {
   "cell_type": "code",
   "execution_count": 14,
   "metadata": {
    "scrolled": true
   },
   "outputs": [
    {
     "name": "stdout",
     "output_type": "stream",
     "text": [
      "(1, 2)\n"
     ]
    },
    {
     "data": {
      "text/plain": [
       "Point(1, 2)"
      ]
     },
     "execution_count": 14,
     "metadata": {},
     "output_type": "execute_result"
    }
   ],
   "source": [
    "def __repr__(self):\n",
    "    return f'Point({self.x}, {self.y})'\n",
    "\n",
    "def __str__(self):\n",
    "    return f'({self.x}, {self.y})'\n",
    "\n",
    "Point.__repr__ = __repr__ # Динамически добавляем атрибуты класса (лучше так не делать)\n",
    "Point.__str__ = __str__\n",
    "    \n",
    "p = Point(1, 2)\n",
    "print(p)\n",
    "p"
   ]
  },
  {
   "cell_type": "code",
   "execution_count": 15,
   "metadata": {},
   "outputs": [
    {
     "data": {
      "text/plain": [
       "2"
      ]
     },
     "execution_count": 15,
     "metadata": {},
     "output_type": "execute_result"
    }
   ],
   "source": [
    "import math\n",
    "\n",
    "class Point:\n",
    "    def __init__(self, x, y): # Метод конструктора\n",
    "        self.x = x\n",
    "        self.y = y\n",
    "    \n",
    "    def __len__(self): # Перегрузка len()\n",
    "        return int(math.sqrt(self.x**2 + self.y**2)) # Попробуйте убрать int()\n",
    "\n",
    "p = Point(x=1, y=2)\n",
    "len(p)"
   ]
  },
  {
   "cell_type": "markdown",
   "metadata": {},
   "source": [
    "Подробная информация о магических методах, которые можно использовать для перегрузки операций, приведена в [официальной документации](https://docs.python.org/3/reference/datamodel.html#special-method-names)."
   ]
  },
  {
   "cell_type": "markdown",
   "metadata": {},
   "source": [
    "## Наследование\n",
    "\n",
    "Подкласс наследует от базового класса все атрибуты последнего. Имеется возможность переопределить часть этих атрибутов в подклассе:"
   ]
  },
  {
   "cell_type": "code",
   "execution_count": 16,
   "metadata": {},
   "outputs": [
    {
     "name": "stdout",
     "output_type": "stream",
     "text": [
      "Socrates\n"
     ]
    }
   ],
   "source": [
    "class Mortal:\n",
    "    pass\n",
    "    \n",
    "class Human(Mortal):\n",
    "    def __str__(self):\n",
    "        return 'Human'\n",
    "\n",
    "class Socrates(Human):\n",
    "    def __str__(self):\n",
    "        return 'Socrates'\n",
    "\n",
    "print(Socrates())"
   ]
  },
  {
   "cell_type": "markdown",
   "metadata": {},
   "source": [
    "Наследуемые классы перечисляются в скобках через запятую. В наших прошлых примерах скобки после имени класса отсутствовали, но базовый класс все же неявно был определен и он назывался `object`:"
   ]
  },
  {
   "cell_type": "code",
   "execution_count": 17,
   "metadata": {
    "scrolled": true
   },
   "outputs": [
    {
     "name": "stdout",
     "output_type": "stream",
     "text": [
      "['__class__', '__delattr__', '__dir__', '__doc__', '__eq__', '__format__', '__ge__', '__getattribute__', '__gt__', '__hash__', '__init__', '__init_subclass__', '__le__', '__lt__', '__ne__', '__new__', '__reduce__', '__reduce_ex__', '__repr__', '__setattr__', '__sizeof__', '__str__', '__subclasshook__']\n"
     ]
    }
   ],
   "source": [
    "print(dir(object))"
   ]
  },
  {
   "cell_type": "markdown",
   "metadata": {},
   "source": [
    "При обращении к некоторому атрибуту объекта поиск осуществляется по следующим правилам:\n",
    "1. Проверяются атрибуты объекта.\n",
    "1. Проверяются атрибуты класса объекта.\n",
    "1. Проверяются атрибуты базовых классов.\n",
    "\n",
    "С помощью вызова `super()` можно явно обратиться к атрибутам базового класса:"
   ]
  },
  {
   "cell_type": "code",
   "execution_count": 18,
   "metadata": {
    "scrolled": true
   },
   "outputs": [
    {
     "name": "stdout",
     "output_type": "stream",
     "text": [
      "Human\n"
     ]
    }
   ],
   "source": [
    "class Socrates(Human):\n",
    "    def __str__(self):\n",
    "        return super().__str__()\n",
    "\n",
    "print(Socrates())"
   ]
  },
  {
   "cell_type": "markdown",
   "metadata": {},
   "source": [
    "Последовательность поиска атрибута для конкретного класса можно узнать с помощью `__mro__` (MRO — Method Resolution Order):"
   ]
  },
  {
   "cell_type": "code",
   "execution_count": 19,
   "metadata": {
    "scrolled": true
   },
   "outputs": [
    {
     "data": {
      "text/plain": [
       "(__main__.Socrates, __main__.Human, __main__.Mortal, object)"
      ]
     },
     "execution_count": 19,
     "metadata": {},
     "output_type": "execute_result"
    }
   ],
   "source": [
    "Socrates.__mro__"
   ]
  },
  {
   "cell_type": "markdown",
   "metadata": {},
   "source": [
    "Проверка на то, является ли объект экземляром заданного класса (`isinstance`), а также на то, является ли класс подклассом заданного класса (`issubclass`), демонстрируется ниже:"
   ]
  },
  {
   "cell_type": "code",
   "execution_count": 20,
   "metadata": {
    "scrolled": true
   },
   "outputs": [
    {
     "data": {
      "text/plain": [
       "(True, True)"
      ]
     },
     "execution_count": 20,
     "metadata": {},
     "output_type": "execute_result"
    }
   ],
   "source": [
    "isinstance(p, Point), issubclass(Human, Mortal)"
   ]
  },
  {
   "cell_type": "markdown",
   "metadata": {},
   "source": [
    "## Множественное наследование"
   ]
  },
  {
   "cell_type": "markdown",
   "metadata": {},
   "source": [
    "В Питоне поддерживается множественное наследование, но нужно отметить, что его использование, во многих случаях, не решает, а создает дополнительные проблемы. По этой причине множественное наследование используется, в основном, для создания «примесей» (mixins), сходных с интерфейсами из таких языков, как Java.\n",
    "\n",
    "Примеси представляют собой классы, не предназначенные для отдельного использования. В примесях определен набор методов, которые добавляют некоторую функциональность использующему их классу:"
   ]
  },
  {
   "cell_type": "code",
   "execution_count": 21,
   "metadata": {},
   "outputs": [
    {
     "name": "stdout",
     "output_type": "stream",
     "text": [
      "Обновляем log-файл.\n",
      "Конвертируем данные.\n"
     ]
    }
   ],
   "source": [
    "class LogMixin:\n",
    "    def log(self):\n",
    "        print('Обновляем log-файл.')\n",
    "        \n",
    "class ConvertMixin:\n",
    "    def convert(self):\n",
    "        print('Конвертируем данные.')\n",
    "        \n",
    "class DoSomething(LogMixin, ConvertMixin):\n",
    "    pass\n",
    "\n",
    "ds = DoSomething()\n",
    "ds.log()\n",
    "ds.convert()"
   ]
  },
  {
   "cell_type": "markdown",
   "metadata": {},
   "source": [
    "## Полиморфизм\n",
    "\n",
    "В Питоне, как и в других динамических языках, используется динамическое связывание: мы можем обратиться к атрибуту некоторого объекта, вне зависимости от класса этого объекта. Достаточно лишь, чтобы атрибут с искомым именем можно был обнаружить в процессе описанных выше этапов поиска. Нет необходимости создавать и перегружать виртуальный метод, как это делается, например, в C++.\n",
    "\n",
    "В Питоне используется принцип, называемый «утиной типизацией» — «если нечто выглядит, крякает и плавает, как утка, то это утка». В результате легко осуществляется работа с объектами различных классов, при условии что у этих объектов имеются нужные нам имена методов."
   ]
  },
  {
   "cell_type": "markdown",
   "metadata": {},
   "source": [
    "## Инкапсуляция\n",
    "\n",
    "\n",
    "По умолчанию в Питоне не используется инкапсуляция данных. Все атрибуты класса являются публичными и при наследовании доступ к этим атрибутам не ограничивается.\n",
    "\n",
    "Некоторую «защиту от несанкционированного доступа» можно обеспечить с помощью с помощью использования `__` в начале имени атрибута:"
   ]
  },
  {
   "cell_type": "code",
   "execution_count": 22,
   "metadata": {},
   "outputs": [
    {
     "data": {
      "text/plain": [
       "False"
      ]
     },
     "execution_count": 22,
     "metadata": {},
     "output_type": "execute_result"
    }
   ],
   "source": [
    "class Protected:\n",
    "    def __init__(self):\n",
    "        self.__secret_attribute = 42\n",
    "        \n",
    "p = Protected()\n",
    "hasattr(p, '__secret_attribute') # Проверка на наличие атрибута"
   ]
  },
  {
   "cell_type": "markdown",
   "metadata": {},
   "source": [
    "Продемонстрированную «защиту», тем не менее легко обойти, поскольку суть ее в автоматическом добавлении имени класса к имени атрибута:"
   ]
  },
  {
   "cell_type": "code",
   "execution_count": 23,
   "metadata": {
    "scrolled": true
   },
   "outputs": [
    {
     "name": "stdout",
     "output_type": "stream",
     "text": [
      "{'_Protected__secret_attribute': 42}\n",
      "{'_Protected__secret_attribute': 43}\n"
     ]
    }
   ],
   "source": [
    "print(vars(p)) # Вывести атрибуты объекта\n",
    "p._Protected__secret_attribute += 1\n",
    "print(vars(p))"
   ]
  },
  {
   "cell_type": "markdown",
   "metadata": {},
   "source": [
    "Для проверки того, что разрабатываемый класс реализует необходимый интерфейс (то есть набор методов), можно использовать абстрактные классы, см. [официальную документацию](https://docs.python.org/3/library/abc.html)."
   ]
  },
  {
   "cell_type": "markdown",
   "metadata": {},
   "source": [
    "## Шаблоны проектирования\n",
    "\n",
    "Шаблоны проектирования представляют собой типовые конструкции, которые решают ту или иную частную задачу в рамках объектно-ориентированной разработки. Хотя знакомство с шаблонами проектирования и необходимо в рамках изучения ООП, но относится к ним желательно критически, не следует применять их бездумно.\n",
    "\n",
    "Шаблоны проектирования иногда называют «отсутствующими возможностями языка программирования», подразумевая, что в языках высокоуровневых шаблоны не играют существенной роли. Так, Питер Норвиг проанализировал использование шаблонов проектирования и [обнаружил](http://norvig.com/design-patterns/design-patterns.pdf), что 16 из 23 популярных шаблонов не используются в таком динамическом языке, как Лисп, или же формулируются в гораздо более простом виде, чем в C++. Этот результат можно отнести и к Питону, поскольку он является  динамическим языком и, подобно Лиспу, поддерживает элементы функционального програмирования.\n",
    "\n",
    "Если вы по каким-то причинам пропустили знакомство с шаблонами проектирования, то можно посоветовать прочесть небольшую книгу [Game Design Patterns](https://gameprogrammingpatterns.com/contents.html)."
   ]
  },
  {
   "cell_type": "markdown",
   "metadata": {},
   "source": [
    "## Упаковка и распаковка аргументов"
   ]
  },
  {
   "cell_type": "markdown",
   "metadata": {},
   "source": [
    "Реализовать функцию с произвольным количеством аргументов можно следующим образом:"
   ]
  },
  {
   "cell_type": "code",
   "execution_count": 24,
   "metadata": {
    "scrolled": true
   },
   "outputs": [
    {
     "name": "stdout",
     "output_type": "stream",
     "text": [
      "x (1, 2, 3) {'k1': 'a', 'k2': 'b'}\n"
     ]
    }
   ],
   "source": [
    "def func(x, *args, **kwargs):\n",
    "    print(x, args, kwargs)\n",
    "    \n",
    "func('x', 1, 2, 3, k1='a', k2='b')"
   ]
  },
  {
   "cell_type": "markdown",
   "metadata": {},
   "source": [
    "В этом примере в аргумент с одной зведочкой попадает кортеж со всеми позиционными аргументами, а в аргумент с двумя звездочками — словарь с именованными аргументами.\n",
    "\n",
    "При необходимости, полученные аргументы можно распаковать с помощью `*` (кортеж) и `**` (словарь):"
   ]
  },
  {
   "cell_type": "code",
   "execution_count": 25,
   "metadata": {},
   "outputs": [
    {
     "name": "stdout",
     "output_type": "stream",
     "text": [
      "print,1,2,3\n"
     ]
    }
   ],
   "source": [
    "def my_print(*args, **kwargs):\n",
    "    print('print', *args, **kwargs)\n",
    "    \n",
    "my_print(1, 2, 3, sep=',')"
   ]
  },
  {
   "cell_type": "markdown",
   "metadata": {},
   "source": [
    "С использованием операции `*` возможны и более изощренные решения:"
   ]
  },
  {
   "cell_type": "code",
   "execution_count": 26,
   "metadata": {},
   "outputs": [
    {
     "name": "stdout",
     "output_type": "stream",
     "text": [
      "0 [1, 2, 3, 4, 5, 6, 7, 8] 9\n",
      "0 1 [2, 3, 4, 5, 6, 7, 8, 9]\n",
      "[0, 1, 2, 3, 4, 5, 6, 7, 8] 9\n"
     ]
    }
   ],
   "source": [
    "first, *middle, last = range(0, 10)\n",
    "print(first, middle, last)\n",
    "first, second, *rest = range(0, 10)\n",
    "print(first, second, rest)\n",
    "*firsts, last = range(0, 10)\n",
    "print(firsts, last)"
   ]
  }
 ],
 "metadata": {
  "kernelspec": {
   "display_name": "Python 3",
   "language": "python",
   "name": "python3"
  },
  "language_info": {
   "codemirror_mode": {
    "name": "ipython",
    "version": 3
   },
   "file_extension": ".py",
   "mimetype": "text/x-python",
   "name": "python",
   "nbconvert_exporter": "python",
   "pygments_lexer": "ipython3",
   "version": "3.10.2"
  }
 },
 "nbformat": 4,
 "nbformat_minor": 4
}
