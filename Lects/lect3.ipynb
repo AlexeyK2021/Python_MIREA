{
 "cells": [
  {
   "cell_type": "markdown",
   "metadata": {},
   "source": [
    "# Лекция №3. Организация программ\n",
    "\n",
    "П.Н. Советов, РТУ МИРЭА"
   ]
  },
  {
   "cell_type": "markdown",
   "metadata": {},
   "source": [
    "## Модули\n",
    "\n",
    "Модули позволяют разбить программу на независимые части. В Питоне каждый модуль располагается в отдельном файле. Уже знакомое нам ключевое слово `import` используется для загрузки и исполнения модуля.\n",
    "\n",
    "Обратиться к элементам пространства имен модуля можно, как мы тоже уже знаем, с использованием точки:"
   ]
  },
  {
   "cell_type": "code",
   "execution_count": 1,
   "metadata": {
    "scrolled": true
   },
   "outputs": [
    {
     "data": {
      "text/plain": [
       "1.0"
      ]
     },
     "execution_count": 1,
     "metadata": {},
     "output_type": "execute_result"
    }
   ],
   "source": [
    "import math\n",
    "\n",
    "math.sin(math.pi / 2)"
   ]
  },
  {
   "cell_type": "markdown",
   "metadata": {},
   "source": [
    "С помощью функции `dir` можно узнать содержимое пространства имен загруженного модуля:"
   ]
  },
  {
   "cell_type": "code",
   "execution_count": 2,
   "metadata": {},
   "outputs": [
    {
     "name": "stdout",
     "output_type": "stream",
     "text": [
      "['__doc__', '__loader__', '__name__', '__package__', '__spec__', 'acos', 'acosh', 'asin', 'asinh', 'atan', 'atan2', 'atanh', 'ceil', 'comb', 'copysign', 'cos', 'cosh', 'degrees', 'dist', 'e', 'erf', 'erfc', 'exp', 'expm1', 'fabs', 'factorial', 'floor', 'fmod', 'frexp', 'fsum', 'gamma', 'gcd', 'hypot', 'inf', 'isclose', 'isfinite', 'isinf', 'isnan', 'isqrt', 'ldexp', 'lgamma', 'log', 'log10', 'log1p', 'log2', 'modf', 'nan', 'perm', 'pi', 'pow', 'prod', 'radians', 'remainder', 'sin', 'sinh', 'sqrt', 'tan', 'tanh', 'tau', 'trunc']\n"
     ]
    }
   ],
   "source": [
    "print(dir(math))"
   ]
  },
  {
   "cell_type": "markdown",
   "metadata": {},
   "source": [
    "Для импортирования конкретных функций из модуля используется `from`:"
   ]
  },
  {
   "cell_type": "code",
   "execution_count": 3,
   "metadata": {
    "scrolled": true
   },
   "outputs": [
    {
     "data": {
      "text/plain": [
       "1.0"
      ]
     },
     "execution_count": 3,
     "metadata": {},
     "output_type": "execute_result"
    }
   ],
   "source": [
    "from math import sin, pi\n",
    "\n",
    "sin(pi / 2)"
   ]
  },
  {
   "cell_type": "markdown",
   "metadata": {},
   "source": [
    "С помощью звездочки можно импортировать все пространство имен модуля в текущее пространство имен:"
   ]
  },
  {
   "cell_type": "code",
   "execution_count": 4,
   "metadata": {},
   "outputs": [
    {
     "data": {
      "text/plain": [
       "1.0"
      ]
     },
     "execution_count": 4,
     "metadata": {},
     "output_type": "execute_result"
    }
   ],
   "source": [
    "from math import *\n",
    "\n",
    "sin(pi / 2)"
   ]
  },
  {
   "cell_type": "markdown",
   "metadata": {},
   "source": [
    "При этом следует по возможности избегать бесконтрольного импорта всего содержимого модуля.\n",
    "\n",
    "Хорошим тоном считается описание импорта каждого модуля отдельной строкой. То есть:\n",
    "\n",
    "```Python\n",
    "import sys\n",
    "import math\n",
    "```\n",
    "\n",
    "вместо\n",
    "\n",
    "```Python\n",
    "import sys, math\n",
    "```"
   ]
  },
  {
   "cell_type": "markdown",
   "metadata": {},
   "source": [
    "Каждый модуль импортируется и исполняется только один раз. Повторный импорт приводит к ссылке на уже загруженный ранее модуль.\n",
    "\n",
    "Модули не могут взаимно импорировать друг друга. В большинстве случаев полезнее не пытаться искать обходные пути для решения этой проблемы, а попробовать реорганизовать программу так, чтобы взаимные связи между модулями исчезли.\n",
    "\n",
    "Имя текущего модуля хранится в глобальной переменной `__name__`. Этим фактом можно воспользоваться, чтобы менять поведение модуля в зависимости от того, каким образом он был загружен: с помощью `import` или как главный скрипт:"
   ]
  },
  {
   "cell_type": "code",
   "execution_count": 5,
   "metadata": {},
   "outputs": [
    {
     "name": "stdout",
     "output_type": "stream",
     "text": [
      "Запуск в режиме скрипта.\n"
     ]
    }
   ],
   "source": [
    "def test_module():\n",
    "    print('Запуск в режиме скрипта.')\n",
    "    \n",
    "if __name__ == '__main__':\n",
    "    test_module()"
   ]
  },
  {
   "cell_type": "markdown",
   "metadata": {},
   "source": [
    "## Пакеты\n",
    "\n",
    "Сложные иерархии из модулей строятся с помощью пакетов. Пакет представляет собой пространство имен для коллекции модулей.\n",
    "\n",
    "Например, пакет sly из проекта [SLY](https://github.com/dabeaz/sly) представляет собой одноименный каталог, в котором содержатся следующие файлы:\n",
    "\n",
    "```\n",
    "sly/\n",
    "    __init__.py\n",
    "    ast.py\n",
    "    docparse.py\n",
    "    lex.py\n",
    "    yacc.py\n",
    "```\n",
    "\n",
    "Помимо коллекции модулей здесь имеется специальный файл `__init__.py`, определяющий, что каталог является пакетом.\n",
    "\n",
    "Импортирование отдельных модулей из пространства имен пакета осуществляется традиционным образом: `import sly.lex` или `from sly import lex`.\n",
    "\n",
    "Импортирование модулей внутри пакета происходит в особом относительном режиме с предваряющей точкой, обозначающей текущий пакет: `from . import lex` (импорт всего модуля `lex`) или `from .lex import Lex` (импорт класса `Lex` из `lex`).\n",
    "\n",
    "Файл `__init__.py` может содержать код для импорта отдельных модулей из пакета. В примере с пакетом sly организовано автоматическое подключение модулей при вызове `import sly`. Содержимое `__init__.py` имеет следующий вид:\n",
    "\n",
    "```\n",
    "from .lex import *\n",
    "from .yacc import *\n",
    "...\n",
    "```\n",
    "\n",
    "Выполнение отдельного модуля из пакета производится с помощью опции `-m`:\n",
    "\n",
    "```\n",
    "python -m пакет.модуль\n",
    "```"
   ]
  },
  {
   "cell_type": "markdown",
   "metadata": {},
   "source": [
    "### Установка пакетов\n",
    "\n",
    "Сторонние пакеты устанавливаются с помощью менеджера пакета `pip`:\n",
    "\n",
    "```\n",
    "pip install sly\n",
    "```\n",
    "\n",
    "или\n",
    "\n",
    "```\n",
    "python -m pip install sly\n",
    "```\n",
    "\n",
    "Иногда полезно использовать виртуальное окружение с минимумом предустановленных пакетов. Это позволяет предотвратить конфликты между устанавливаемыми пакетами, а также дает возможность экспериментировать с новыми пакетами без замусоривания основного хранилища пакетов.\n",
    "\n",
    "Создать новое виртуальное окружение:\n",
    "\n",
    "```\n",
    "python -m venv мое_окружение\n",
    "```\n",
    "\n",
    "Далее переход в новое окружение совершается с помощью запуска скрипта `activate`, находящегося внутри созданного каталога `мое_окружение`.\n"
   ]
  },
  {
   "cell_type": "markdown",
   "metadata": {},
   "source": [
    "### Создание пакетов для других пользователей\n",
    "\n",
    "Для получения дистрибутива пакета, пригодного для установки с помощью pip, необходимо создать файл setup.py рядом с каталогом пакета.\n",
    "\n",
    "Пример содержимого setup.py:\n",
    "\n",
    "```Python\n",
    "# setup.py\n",
    "import setuptools\n",
    "\n",
    "setuptools.setup(\n",
    "    name='mypackage', # Имя пакета\n",
    "    version='0.0.1',  # Версия пакета\n",
    "    author='Your Name',\n",
    "    author_email='your@domain.com',\n",
    "    description='My Package',\n",
    "    packages=setuptools.find_packages(),\n",
    ")\n",
    "```\n",
    "\n",
    "Если в состав пакета входят дополнительные файлы данных, то их необходимо перечислить в файле MANIFEST.in. Описание работы с этим файлом имеется в [официальной документации](https://packaging.python.org/guides/using-manifest-in/). В проекте sly содержимое этого файла имеет следующий вид:\n",
    "\n",
    "```\n",
    "recursive-include example *\n",
    "recursive-include docs *\n",
    "```\n",
    "\n",
    "Создание дистрибутва производится с помощью следующей команды:\n",
    "\n",
    "```\n",
    "python setup.py sdist\n",
    "```\n",
    "\n",
    "Результат в виде архива с расширением .tar.gz можно найти в каталоге dist. Далее архив можно установить с помощью команды pip:\n",
    "\n",
    "```\n",
    "pip install mypackage-0.0.1.tar.gz\n",
    "```\n",
    "\n",
    "Пакет можно опубликовать в официальном репозитории, см. сайт [pypi.org](https://pypi.org/)."
   ]
  },
  {
   "cell_type": "markdown",
   "metadata": {},
   "source": [
    "## Исключения\n",
    "\n",
    "Исключения в Питоне, как и в С++ или Java, используются для обработки ошибок и других нештатных ситуаций, возникающих в процессе выполнения программы.\n",
    "\n",
    "Например, при делении на нуль возникает исключение:\n",
    "\n",
    "```Python\n",
    ">>> def f():\n",
    "...     return 1 / 0\n",
    "...\n",
    ">>> f()\n",
    "Traceback (most recent call last):\n",
    "  File \"<stdin>\", line 1, in <module>\n",
    "  File \"<stdin>\", line 2, in f\n",
    "ZeroDivisionError: division by zero\n",
    "```\n",
    "\n",
    "Здесь указан класс исключения (`ZeroDivisionError`), сообщение исключения (`division by zero`), а также результат трассировки со стеком последних вызовов (`Traceback`), приведших к возникновению исключения.\n",
    "\n",
    "Сгенерировать исключение можно с помощью `raise`:\n",
    "\n",
    "```Python\n",
    ">>> raise ZeroDivisionError('Деление на нуль')\n",
    "Traceback (most recent call last):\n",
    "  File \"<stdin>\", line 1, in <module>\n",
    "ZeroDivisionError: Деление на нуль\n",
    "```\n",
    "\n",
    "Для обработки исключений используется конструкция `try/except`:"
   ]
  },
  {
   "cell_type": "code",
   "execution_count": 6,
   "metadata": {},
   "outputs": [
    {
     "name": "stdout",
     "output_type": "stream",
     "text": [
      "Деление на нуль!\n"
     ]
    }
   ],
   "source": [
    "try:\n",
    "    1 / 0\n",
    "except ZeroDivisionError:\n",
    "    print('Деление на нуль!')"
   ]
  },
  {
   "cell_type": "markdown",
   "metadata": {},
   "source": [
    "Следует стараться сократить до минимума блок, находящийся внутри `try/except`, что позволяет лучше локализовать ошибку. Это же касается обработки конкретного класса исключения в `except`. В примере ниже код обработки исключений излишне универсален:"
   ]
  },
  {
   "cell_type": "code",
   "execution_count": 7,
   "metadata": {},
   "outputs": [
    {
     "name": "stdout",
     "output_type": "stream",
     "text": [
      "Деление на нуль!\n"
     ]
    }
   ],
   "source": [
    "try:\n",
    "    1 / 0\n",
    "except: # Слишком общий случай\n",
    "    print('Деление на нуль!')"
   ]
  },
  {
   "cell_type": "markdown",
   "metadata": {},
   "source": [
    "При необходимости можно узнать подробности о полученном исключении:"
   ]
  },
  {
   "cell_type": "code",
   "execution_count": 8,
   "metadata": {
    "scrolled": true
   },
   "outputs": [
    {
     "name": "stdout",
     "output_type": "stream",
     "text": [
      "<class 'ZeroDivisionError'> division by zero\n"
     ]
    }
   ],
   "source": [
    "try:\n",
    "    1 / 0\n",
    "except ZeroDivisionError as e: # e это объект класса ZeroDivisionError\n",
    "    print(type(e), e)"
   ]
  },
  {
   "cell_type": "markdown",
   "metadata": {},
   "source": [
    "Блок `finally` полезен, если необходимо осуществить некоторые завершающие действия (закрыть файл, разорвать соединение и так далее)  даже при возникновании исключений:"
   ]
  },
  {
   "cell_type": "code",
   "execution_count": 9,
   "metadata": {},
   "outputs": [
    {
     "name": "stdout",
     "output_type": "stream",
     "text": [
      "Уборка.\n",
      "Деление на нуль!\n"
     ]
    }
   ],
   "source": [
    "try:\n",
    "    try:\n",
    "        1 / 0\n",
    "    finally:\n",
    "        print('Уборка.')\n",
    "except ZeroDivisionError:\n",
    "    print('Деление на нуль!')"
   ]
  },
  {
   "cell_type": "markdown",
   "metadata": {},
   "source": [
    "Использование `with` в большинстве случаев позволяет обойтись без `finally`.\n",
    "\n",
    "В блоке except можно повторно вызывать обрабатываемое исключение с помощью `raise` без параметров. Это используется, в частности, для ведения лога работы программы.\n",
    "\n",
    "Легковесной альтернативой исключениям являются возвращаемые коды или специальные значения, сигнализирующие об ошибках. В Питоне принято использовать значение `None`, возвращение которого соответствует некоторой нестандартной ситуации. Преимуществами исключений, по сравнению с кодами ошибок, являются:\n",
    "\n",
    "* Детальная информация об ошибке, включая стек вызовов.\n",
    "* Отсутствие необходимости отслеживания возвращаемых значений функций, необязательность явной обработки ошибки.\n",
    "\n",
    "При этом исключениями легко злоупотребить, использовать их в духе изощренного варианта GOTO. В частности, исключения иногда используются не для обработки ошибок, а в реализации алгоритмов, как в примере ниже:"
   ]
  },
  {
   "cell_type": "code",
   "execution_count": 10,
   "metadata": {},
   "outputs": [],
   "source": [
    "def get_freq(text):\n",
    "    freq = {}\n",
    "    for w in text.split():\n",
    "        try:\n",
    "            freq[w] += 1\n",
    "        except KeyError:\n",
    "            freq[w] = 1\n",
    "    return freq"
   ]
  },
  {
   "cell_type": "markdown",
   "metadata": {},
   "source": [
    "Здесь можно было бы воспользоваться методом `get` и избавиться от обработки исключения:"
   ]
  },
  {
   "cell_type": "code",
   "execution_count": 11,
   "metadata": {},
   "outputs": [],
   "source": [
    "def get_freq(text):\n",
    "    freq = {}\n",
    "    for w in text.split():\n",
    "        freq[w] = freq.get(w, 0) + 1\n",
    "    return freq"
   ]
  },
  {
   "cell_type": "markdown",
   "metadata": {},
   "source": [
    "Или, еще лучше, использовать мощные возможности стандартной библиотеки Питона:"
   ]
  },
  {
   "cell_type": "code",
   "execution_count": 12,
   "metadata": {},
   "outputs": [],
   "source": [
    "from collections import Counter\n",
    "\n",
    "def get_freq(text):\n",
    "    return Counter(text.split())"
   ]
  },
  {
   "cell_type": "markdown",
   "metadata": {},
   "source": [
    "## Оформление программ\n",
    "\n",
    "Стиль оформления программ на Питоне определен в [PEP 8](https://www.python.org/dev/peps/pep-0008/). Правил, изложенных в этом документе, желательно придерживаться. Особенно, если вы планируете показать свою программу другим разработчикам. Существует ряд инструментов, позволяющих автоматически проверить код на соответствие PEP 8, см., например, [pycodestyle](https://pypi.org/project/pycodestyle/). В развитых IDE такие инструменты уже встроены.\n",
    "\n",
    "Файл модуля должен содержать текст в кодировке UTF-8. Общая структура модуля имеет следующий вид:\n",
    "\n",
    "1. Комментарий-docstring модуля.\n",
    "1. Импорты из стандартной библиотеки.\n",
    "1. Импорты из сторонних библиотек.\n",
    "1. Локальные импорты из приложения.\n",
    "1. Глобальные переменные и константы.\n",
    "1. Классы и функции.\n",
    "\n",
    "Для отступов используется 4 пробела, а максимальная длина строки не должна превышать 79 символов.\n",
    "\n",
    "Функции и классы в глобальном пространстве имен отделяются друг от друга 2 пустыми строками. Методы отделяются друг от друга 1 пустой строкой.\n",
    "\n",
    "Для назначения имен используются следующие правила:\n",
    "\n",
    "1. Пакеты и модули именуются с помощью коротких слов в нижнем регистре. Примеры: sys, math.\n",
    "1. Для классов используются слова, начинающиеся с заглавной буквы и соединенные слитно. Примеры: MyClass, PathLike.\n",
    "1. Имена функций, методов, аргументов и локальных переменных пишутся в нижнем регистре, слова разделяются символом подчеркивания. Примеры: read_all, generate."
   ]
  },
  {
   "cell_type": "markdown",
   "metadata": {},
   "source": [
    "## Профилирование программ\n",
    "\n",
    "Для сбора характеристик выполненной программы используется встроенный профилировщик. Его можно вызвать следующим образом:\n",
    "\n",
    "```\n",
    "python -m cProfile программа.py\n",
    "```\n",
    "\n",
    "Результат профилирования:\n",
    "\n",
    "```\n",
    "         1395459 function calls (1392906 primitive calls) in 3.226 seconds\n",
    "\n",
    "   Ordered by: standard name\n",
    "\n",
    "   ncalls  tottime  percall  cumtime  percall filename:lineno(function)\n",
    "     13/3    0.000    0.000    0.027    0.009 <frozen importlib._bootstrap>:1002(_find_and_load)\n",
    "      3/2    0.000    0.000    0.001    0.001 <frozen importlib._bootstrap>:1033(_handle_fromlist)\n",
    "       15    0.000    0.000    0.000    0.000 <frozen importlib._bootstrap>:112(release)\n",
    "       13    0.000    0.000    0.000    0.000 <frozen importlib._bootstrap>:152(__init__)\n",
    "       13    0.000    0.000    0.000    0.000 <frozen importlib._bootstrap>:156(__enter__)\n",
    "       13    0.000    0.000    0.000    0.000 <frozen importlib._bootstrap>:160(__exit__)\n",
    "       15    0.000    0.000    0.000    0.000 <frozen importlib._bootstrap>:166(_get_module_lock)\n",
    "       13    0.000    0.000    0.000    0.000 <frozen importlib._bootstrap>:185(cb)\n",
    "        2    0.000    0.000    0.000    0.000 <frozen importlib._bootstrap>:203(_lock_unlock_module)\n",
    "     18/3    0.000    0.000    0.023    0.008 <frozen importlib._bootstrap>:220(_call_with_frames_removed)\n",
    "\n",
    "```\n",
    "\n",
    "Здесь строка `Ordered by: standard name` означает, что вывод данных для отдельных функций/методов отсортирован по имени (см. последнюю колонку).\n",
    "\n",
    "Удобной является сортировка по общему затраченному времени (`cumulative`) на выполнение:\n",
    "\n",
    "```\n",
    "python -m cProfile -s cumulative программа.py\n",
    "```\n",
    "\n",
    "```\n",
    "         1315617 function calls (1313064 primitive calls) in 3.115 seconds\n",
    "\n",
    "   Ordered by: cumulative time\n",
    "\n",
    "   ncalls  tottime  percall  cumtime  percall filename:lineno(function)\n",
    "     11/1    0.000    0.000    3.115    3.115 {built-in method builtins.exec}\n",
    "        1    0.000    0.000    3.115    3.115 terrain.py:4(<module>)\n",
    "        1    0.000    0.000    2.084    2.084 __init__.py:593(mainloop)\n",
    "        1    0.042    0.042    2.084    2.084 {method 'mainloop' of '_tkinter.tkapp' objects}\n",
    "       18    0.000    0.000    2.042    0.113 __init__.py:1880(__call__)\n",
    "       17    0.000    0.000    2.035    0.120 __init__.py:804(callit)\n",
    "       17    0.001    0.000    2.035    0.120 terrain.py:73(update_screen)\n",
    "       17    1.146    0.067    1.929    0.113 terrain.py:51(render)\n",
    "        1    0.004    0.004    0.911    0.911 terrain.py:37(__init__)\n",
    "        1    0.002    0.002    0.835    0.835 terrain.py:18(load_data)\n",
    "```\n",
    "\n",
    "Описание колонок приведено в таблице:\n",
    "\n",
    "| Имя колонки | Описание                                                |\n",
    "|-------------|---------------------------------------------------------|\n",
    "| ncalls      | Количество вызовов                                      |\n",
    "| tottime     | Общее время работы функции, не включая время подфункций |\n",
    "| percall     | tottime/ncalls                                          |\n",
    "| cumtime     | Общее время работы функции                              |\n",
    "| percall     | cumtime/ncalls                                          |\n",
    "\n",
    "Для оценки производительности отдельной функции используется функция `timeit` из одноименного модуля:\n",
    "\n",
    "```Python\n",
    ">>> from timeit import timeit\n",
    ">>> def f1(): return 2**64 - 1\n",
    "\n",
    ">>> def f2(): math.pow(2, 64) - 1\n",
    "\n",
    ">>> timeit(f1, number=1000000) # параметр number определяет число запусков функции\n",
    "0.06563599999992675\n",
    ">>> timeit(f2, number=1000000)\n",
    "0.2985565000000179\n",
    "```\n"
   ]
  },
  {
   "cell_type": "markdown",
   "metadata": {},
   "source": [
    "Во многих случаях самым производительным кодом на Питоне будет \"немногословный\" код. Тот, в котором используются преимущественно высокоуровневые конструкции, библиотечные функции и структуры данных. "
   ]
  },
  {
   "cell_type": "markdown",
   "metadata": {},
   "source": [
    "## Jupyter-блокноты\n",
    "\n",
    "Вычислительный блокнот (или просто \"блокнот\") является одним из способов организовать документацию и программу в одном документе. Блокноты традиционно используются в математических пакетах, таких, как Mathcad и Mathematica. Блокноты предназначены, в первую очередь, для создания специфического вида документированных программ — журналов или отчетов о проведенных вычислениях из области компьютерной алгебры, статистики, анализа данных, машинного обучения и других областей наук.\n",
    "\n",
    "[Jupyter](https://jupyter.org/)-блокнот является веб-реализацией концепции интерактивных блокнотов. Поддерживается Питон, а также ряд других языков программирования. \n",
    "\n",
    "Для начала работы с Jupyter-блокнотами необходимо запустить сервер блокнотов, после чего просмотр и редактирование блокнотов можно осуществить в прямо в веб-бразуере.\n",
    "\n",
    "Документ в формате Jupyter-блокнота имеет расширение .ipynb и содержит последовательность ячеек. Используется два основных вида ячеек:\n",
    "\n",
    "1. Ячейки кода.\n",
    "1. Ячейки текста.\n",
    "\n",
    "Ячейки кода содержат текст на Питоне. В блокноте есть средства для выполнения отдельной ячейки, а также для последовательного выполнения всех ячеек документа.\n",
    "\n",
    "Ячейки текста поддерживают формат Markdown с дополнительной возможностью записи формул в формате LaTeX.\n",
    "\n",
    "При работе с блокнотом полезно держать под рукой перечень \"горячих клавиш\", с помощью которых осуществляются основные действия с документом. См. верхнее меню, последний пункт: Help->Keyboard Shortcuts."
   ]
  },
  {
   "cell_type": "markdown",
   "metadata": {},
   "source": [
    "## Библиотека Matplotlib\n",
    "\n",
    "[Matplotlib](https://matplotlib.org/stable/index.html) — библиотека для визуализации данных. Поддерживается множество видов визуализации: линейные, столбчатые, точечные и круговые диаграммы, гистограммы, тепловые карты и другие."
   ]
  },
  {
   "cell_type": "code",
   "execution_count": 13,
   "metadata": {},
   "outputs": [],
   "source": [
    "import matplotlib.pyplot as plt\n",
    "import random"
   ]
  },
  {
   "cell_type": "markdown",
   "metadata": {},
   "source": [
    "Построим простейший график."
   ]
  },
  {
   "cell_type": "code",
   "execution_count": 14,
   "metadata": {
    "scrolled": true
   },
   "outputs": [
    {
     "data": {
      "image/png": "[encoded data removed]",
      "text/plain": [
       "<Figure size 432x288 with 1 Axes>"
      ]
     },
     "metadata": {
      "needs_background": "light"
     },
     "output_type": "display_data"
    }
   ],
   "source": [
    "xs = range(0, 10)\n",
    "# Символ ; здесь используется, чтобы не выводить служебную информацию на экран\n",
    "plt.plot(xs, [random.random() for _ in xs]);"
   ]
  },
  {
   "cell_type": "markdown",
   "metadata": {},
   "source": [
    "Добавим второй график к первому, а также добавим надписи."
   ]
  },
  {
   "cell_type": "code",
   "execution_count": 15,
   "metadata": {
    "scrolled": false
   },
   "outputs": [
    {
     "data": {
      "image/png": "[encoded data removed]",
      "text/plain": [
       "<Figure size 432x288 with 1 Axes>"
      ]
     },
     "metadata": {
      "needs_background": "light"
     },
     "output_type": "display_data"
    }
   ],
   "source": [
    "plt.plot(xs, [random.random() for _ in xs], label='$f_1$') # Нотация LaTeX\n",
    "plt.plot(xs, [2 * random.random() for _ in xs], label='$f_2$')\n",
    "plt.xlabel('x')\n",
    "plt.ylabel('y')\n",
    "plt.title('График')\n",
    "plt.legend();"
   ]
  },
  {
   "cell_type": "markdown",
   "metadata": {},
   "source": [
    "Еще несколько примеров."
   ]
  },
  {
   "cell_type": "code",
   "execution_count": 16,
   "metadata": {
    "scrolled": true
   },
   "outputs": [
    {
     "data": {
      "image/png": "[encoded data removed]",
      "text/plain": [
       "<Figure size 1080x360 with 4 Axes>"
      ]
     },
     "metadata": {
      "needs_background": "light"
     },
     "output_type": "display_data"
    }
   ],
   "source": [
    "colors = [random.choice(['red', 'blue']) for _ in xs]\n",
    "fig, axs = plt.subplots(2, 2, figsize=(15, 5))\n",
    "axs[0, 0].plot([random.random() for _ in xs])\n",
    "axs[0, 1].scatter([random.random() for _ in xs], [random.random() for _ in xs], c=colors)\n",
    "axs[1, 0].bar(xs, [random.random() for _ in xs])\n",
    "axs[1, 1].imshow([[random.random() for _ in xs] for _ in xs]);"
   ]
  },
  {
   "cell_type": "code",
   "execution_count": 17,
   "metadata": {},
   "outputs": [
    {
     "data": {
      "image/png": "[encoded data removed]",
      "text/plain": [
       "<Figure size 1080x360 with 2 Axes>"
      ]
     },
     "metadata": {
      "needs_background": "light"
     },
     "output_type": "display_data"
    }
   ],
   "source": [
    "fig, axs = plt.subplots(1, 2, figsize=(15, 5))\n",
    "axs[0].pie([random.random() for _ in xs])\n",
    "axs[1].boxplot([random.random() for _ in xs]);"
   ]
  },
  {
   "cell_type": "markdown",
   "metadata": {},
   "source": [
    "В [галерее](https://matplotlib.org/3.3.4/gallery/) официального сайта Matplotlib представлены примеры различных видов графиков, которые можно взять за основу для своих задач."
   ]
  }
 ],
 "metadata": {
  "kernelspec": {
   "display_name": "Python 3",
   "language": "python",
   "name": "python3"
  },
  "language_info": {
   "codemirror_mode": {
    "name": "ipython",
    "version": 3
   },
   "file_extension": ".py",
   "mimetype": "text/x-python",
   "name": "python",
   "nbconvert_exporter": "python",
   "pygments_lexer": "ipython3",
   "version": "3.8.5"
  }
 },
 "nbformat": 4,
 "nbformat_minor": 4
}
