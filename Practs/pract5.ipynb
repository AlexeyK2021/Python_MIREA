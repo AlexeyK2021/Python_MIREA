{
 "cells": [
  {
   "cell_type": "markdown",
   "metadata": {},
   "source": [
    "# Практическое занятие №5\n",
    "\n",
    "П.Н. Советов, РТУ МИРЭА"
   ]
  },
  {
   "cell_type": "markdown",
   "metadata": {},
   "source": [
    "Решать эту и дальнейшие задачи удобнее в парном составе: один студент занимается написанием кода программы и пытается внести в код такие ошибки, которые будет сложно протестировать другому студенту.\n",
    "\n",
    "Пример программы с ошибкой:\n",
    "\n",
    "```Python\n",
    "def bucketsort(arr, k):\n",
    "    counts = [0] * k\n",
    "    for x in arr:\n",
    "        counts[x] += 1\n",
    "\n",
    "    sorted_arr = []\n",
    "    for i, count in enumerate(arr):\n",
    "        sorted_arr.extend([i] * count)\n",
    "\n",
    "    return sorted_arr\n",
    "```\n",
    "\n",
    "Другие примеры можно взять [отсюда](https://github.com/jkoppel/QuixBugs/tree/master/python_programs)."
   ]
  },
  {
   "cell_type": "markdown",
   "metadata": {},
   "source": [
    "**Задача 1**"
   ]
  },
  {
   "cell_type": "markdown",
   "metadata": {},
   "source": [
    "Использование модуля doctest\n",
    "\n",
    "1. Добавьте документацию к программе в виде docstring-строки.\n",
    "1. Укажите примеры в формате doctest. Примеры должны охватывать граничные случаи.\n",
    "1. Протестируйте программу с помощью вызова модуля doctest.\n",
    "1. Перенесите примеры в отдельный файл и снова протестируйте программу."
   ]
  },
  {
   "cell_type": "markdown",
   "metadata": {},
   "source": [
    "**Задача 2**"
   ]
  },
  {
   "cell_type": "markdown",
   "metadata": {},
   "source": [
    "Использование модуля pytest\n",
    "\n",
    "1. Создайте отдельный файл для тестирования в который поместите тестирующие функции (не менее двух).\n",
    "1. Упростите код с помощью добавления fixture-функций.\n",
    "1. Добавьте параметризацию.\n",
    "1. Добавьте макетный код."
   ]
  },
  {
   "cell_type": "markdown",
   "metadata": {},
   "source": [
    "**Задача 3**"
   ]
  },
  {
   "cell_type": "markdown",
   "metadata": {},
   "source": [
    "Использование модуля coverage\n",
    "\n",
    "1. Получите статистику по покрытию операторов.\n",
    "1. Получите статистику по покрытию ветвей.\n",
    "1. Постарайтесь изменить код исходной программы так, чтобы затруднить получение 100% покрытия.\n",
    "1. Реализуйте вывод статистики о покрытии в HTML-представлении."
   ]
  },
  {
   "cell_type": "markdown",
   "metadata": {},
   "source": [
    "**Задача 4**"
   ]
  },
  {
   "cell_type": "markdown",
   "metadata": {},
   "source": [
    "Прототип системы мутационного тестирования приведен ниже. Попробуйте разобраться в том, как работает этот код. Вам поможет документация к модулю ast.\n",
    "\n",
    "Функция `mut_test` принимает на вход тестируемую функцию и функцию, осуществляющую тестирование с помощью `assert`. Функции необходимо добавлять к приведенному ниже модулю."
   ]
  },
  {
   "cell_type": "code",
   "execution_count": 1,
   "metadata": {},
   "outputs": [],
   "source": [
    "import random\n",
    "from collections import defaultdict\n",
    "import inspect\n",
    "from ast import *\n",
    "\n",
    "\n",
    "class Locator(NodeVisitor):\n",
    "    def __init__(self):\n",
    "        self.locs = defaultdict(list)\n",
    "\n",
    "    def visit(self, node):\n",
    "        self.locs[type(node)].append(node)\n",
    "        self.generic_visit(node)\n",
    "\n",
    "\n",
    "class Mutator(NodeTransformer):\n",
    "    def __init__(self, locs):\n",
    "        # TODO\n",
    "        node_type = random.choice([...])\n",
    "        self.target = random.choice(locs[node_type])\n",
    "\n",
    "    def visit(self, node):\n",
    "        if self.target != node:\n",
    "            return self.generic_visit(node)\n",
    "        # TODO\n",
    "\n",
    "\n",
    "def mutate_code(src, max_changes):\n",
    "    tree = parse(src)\n",
    "    loc = Locator()\n",
    "    loc.visit(tree)\n",
    "    mut = Mutator(loc.locs)\n",
    "    for _ in range(random.randint(1, max_changes)):\n",
    "        mut.visit(tree)\n",
    "    return unparse(tree)\n",
    "\n",
    "\n",
    "def make_mutants(func, size, max_changes):\n",
    "    mutant = src = unparse(parse(inspect.getsource(func)))\n",
    "    mutants = [src]\n",
    "    while len(mutants) < size + 1:\n",
    "        while mutant in mutants:\n",
    "            mutant = mutate_code(src, max_changes)\n",
    "        mutants.append(mutant)\n",
    "    return mutants[1:]\n",
    "\n",
    "\n",
    "def mut_test(func, test, size=20, max_changes=1):\n",
    "    survived = []\n",
    "    mutants = make_mutants(func, size, max_changes)\n",
    "    for mutant in mutants:\n",
    "        try:\n",
    "            exec(mutant, globals())\n",
    "            test()\n",
    "            survived.append(mutant)\n",
    "        except:\n",
    "            pass\n",
    "    return survived\n"
   ]
  },
  {
   "cell_type": "markdown",
   "metadata": {},
   "source": [
    "1. Сгенерируйте несколько программ-мутантов.\n",
    "1. Сгенерируйте несколько программ-мутантов при 100% покрытии ветвей.\n",
    "1. Постарайтесь добиться полного отсутствия мутантов.\n",
    "1. Было бы удобно общий код мутационного тестирования вынести в отдельный модуль. Увы, это не сработает. Почему?"
   ]
  },
  {
   "cell_type": "markdown",
   "metadata": {},
   "source": [
    "**Задача 5**"
   ]
  },
  {
   "cell_type": "markdown",
   "metadata": {},
   "source": [
    "Использование модуля deal\n",
    "\n",
    "1. Добавьте к программе контракты `pre`, `post`, `ensure`, `raises`, `reason`.\n",
    "1. Найдите программу, для которой контракт `has` будет полезен.\n",
    "1. Для программы с классами используйте инвариант `inv`.\n",
    "1. Для тестирования контрактов используйте pytest.\n",
    "1. Реализуйте контракт, выполнение которого `deal` проверяет статически. Какие ограничения имеют статически проверяемые контракты?"
   ]
  },
  {
   "cell_type": "markdown",
   "metadata": {},
   "source": [
    "**Задача 6**"
   ]
  },
  {
   "cell_type": "markdown",
   "metadata": {},
   "source": [
    "Использование модуля hypothesis\n",
    "\n",
    "1. Реализуйте тестирование для численных входных данных, строк, списков.\n",
    "1. Реализуйте тестирование для словарей, деревьев, графов.\n",
    "1. Используйте при создании свойств как можно больше категорий, перечисленных в лекции.\n",
    "1. Найдите подходящую программу и реализуйте для нее тестирование на основе модели.\n",
    "1. Разберитесь, для чего в библиотеке hypothesis используются bundles и примените их в тестировании на основе моделей."
   ]
  },
  {
   "cell_type": "markdown",
   "metadata": {},
   "source": [
    "**Задача 7**"
   ]
  },
  {
   "cell_type": "markdown",
   "metadata": {},
   "source": [
    "Формальная верификация головоломок из компьютерных игр\n",
    "\n",
    "Одной из важных проблем, стоящих перед разработчиком компьютерных игр, является создание интересных головоломок, в которых отсутствуют тупиковые состояния (состояния, из которых нельзя достичь цели).\n",
    "\n",
    "Формальную верификацию проведем следующим образом:\n",
    "\n",
    "1. Реализовать игровую ситуацию в виде некоторого количества локаций с указанием перечня возможных действий в каждой из них.\n",
    "1. Сгенерировать по реализованной игровой ситуации граф всех возможных игровых состояний, в котором ребра задают переходы из состояние в состояние.\n",
    "1. Проанализировать граф состояний на предмет проверяемого игрового свойства.\n",
    "\n",
    "Рассмотрим следующую игровую ситуацию из [PuzzleGraph](https://runevision.itch.io/puzzlegraph):\n",
    "\n",
    "![](images/puzzlegraph.png)\n",
    "\n",
    "Здесь Goal означает целевое состояние, а состояние с двумя зелеными кругами обозначает старт. Справа от стартового состояния используется специальное ребро, по которому позволяется двигаться только в одну сторону, вправо.\n",
    "\n",
    "Ниже приведено описание рассмотренной игровой ситуации на Питоне:"
   ]
  },
  {
   "cell_type": "code",
   "execution_count": 4,
   "metadata": {},
   "outputs": [],
   "source": [
    "# Функция перехода из комнаты в комнату\n",
    "def go(room):\n",
    "    def func(state):\n",
    "        return dict(state, room=room)\n",
    "    return func\n",
    "\n",
    "\n",
    "# Структура игры. Комнаты и допустимые в них действия\n",
    "game = {\n",
    "    'room0': dict(\n",
    "        left=go('room1'),\n",
    "        up=go('room2'),\n",
    "        right=go('room3')\n",
    "    ),\n",
    "    'room1': dict(\n",
    "        up=go('room2'),\n",
    "        right=go('room0')\n",
    "    ),\n",
    "    'room2': dict(\n",
    "    ),\n",
    "    'room3': dict(\n",
    "        up=go('room4'),\n",
    "        right=go('room5')\n",
    "    ),\n",
    "    'room4': dict(\n",
    "        down=go('room3'),\n",
    "        right=go('room5')\n",
    "    ),\n",
    "    'room5': dict(\n",
    "        up=go('room4'),\n",
    "        left=go('room3')\n",
    "    )\n",
    "}\n",
    "\n",
    "# Стартовое состояние\n",
    "START_STATE = dict(room='room0')\n",
    "\n",
    "\n",
    "def is_goal_state(s):\n",
    "    '''\n",
    "    Проверить, является ли состояние целевым.\n",
    "    На входе ожидается множество пар ключ-значение.\n",
    "    '''\n",
    "    return ('room', 'room2') in s\n",
    "\n",
    "\n",
    "def get_current_room(state):\n",
    "    '''\n",
    "    Выдать комнату, в которой находится игрок.\n",
    "    '''\n",
    "    return state['room']"
   ]
  },
  {
   "cell_type": "markdown",
   "metadata": {},
   "source": [
    "1. Реализовать функцию `make_model`, которая по структуре игры и стартовому состоянию строит граф всех возможных состояний.\n",
    "1. Реализовать функцию `find_dead_ends`, которая выдает список тупиковых узлов графа. Вспомните тупиковые ситуации из известных вам компьютерных игр, где, иной раз, для дальнейшего прохождения нужно прибегать к старому сохранению или вводу специальных системных команд, и все потому, что был потерян важный для дальнейшего прохождения предмет или не совершено требуемое действие.\n",
    "1. Добавьте в одну из комнат room3-room5 рычаг, нажатие на который делает односторонний переход из room0 в room3 двусторонним.\n",
    "1. (дополнительно) Придумайте минимальную игровую ситуацию, при которой будет наблюдаться комбинаторный взрыв для графа состояний.\n",
    "\n",
    "Простой вариант функции печати графа в формате GraphViz:"
   ]
  },
  {
   "cell_type": "code",
   "execution_count": 2,
   "metadata": {},
   "outputs": [],
   "source": [
    "def print_dot(graph, start_key):\n",
    "    dead_ends = [] # find_dead_ends(graph) TODO\n",
    "    print('digraph {')\n",
    "    graph_keys = list(graph.keys())\n",
    "    for x in graph:\n",
    "        n = graph_keys.index(x)\n",
    "        if x == start_key:\n",
    "            print(f'n{n} [style=\"filled\",fillcolor=\"dodgerblue\",shape=\"circle\"]')\n",
    "        elif is_goal_state(x):\n",
    "            print(f'n{n} [style=\"filled\",fillcolor=\"green\",shape=\"circle\"]')\n",
    "        elif x in dead_ends:\n",
    "            print(f'n{n} [style=\"filled\",fillcolor=\"red\",shape=\"circle\"]')\n",
    "        else:\n",
    "            print(f'n{n} [shape=\"circle\"]')\n",
    "    for x in graph:\n",
    "        n1 = graph_keys.index(x)\n",
    "        for y in graph[x]:\n",
    "            n2 = graph_keys.index(y)\n",
    "            print(f'n{n1} -> n{n2}')\n",
    "    print('}')"
   ]
  },
  {
   "cell_type": "markdown",
   "metadata": {},
   "source": [
    "Вот как выглядит вывод функции print_dot:\n",
    "    \n",
    "![](images/game.svg)"
   ]
  },
  {
   "cell_type": "markdown",
   "metadata": {},
   "source": [
    "Вывод для пункта 4 с рычагом:\n",
    "    \n",
    "![](images/puzzlegraph2.svg)"
   ]
  },
  {
   "cell_type": "markdown",
   "metadata": {},
   "source": [
    "**Задача 8**\n",
    "\n",
    "Есть простая игра The Teeny Tiny Mansion (TTTM), описание которой приведено по [ссылке](http://svn.clairexen.net/handicraft/2017/tttm/README). В этой игре имеется 2 персонажа (Алиса и Боб), которыми можно поочередно управлять, 4 комнаты, 3 двери и 3 ключа. Персонажи могут брать ключи и передавать их друг другу. Целью является привести Алису в красную комнату, а Боба — в голубую комнату.\n",
    "\n",
    "В качестве стартового состояния используйте:\n",
    "\n",
    "```Python\n",
    "\n",
    "START_STATE = dict(\n",
    "    player='alice',\n",
    "    alice_room='west room',\n",
    "    bob_room='east room',\n",
    "    red_key='east room',\n",
    "    blue_key='west room',\n",
    "    green_key='east room'\n",
    ")\n",
    "```\n",
    "\n",
    "1. Реализовать все пункты предыдущей задачи для TTTM.\n",
    "1. Реализовать функцию подсчета кратчайшего числа шагов, за которые игру можно успешно завершить.\n",
    "1. Провести верификацию для общего случая: Алиса, Боб и 3 ключа случайно располагаются в западной и восточной комнатах.\n",
    "\n",
    "Пример вывода графа состояний:\n",
    "\n",
    "![](images/tttm.svg)"
   ]
  },
  {
   "cell_type": "markdown",
   "metadata": {},
   "source": []
  }
 ],
 "metadata": {
  "kernelspec": {
   "display_name": "Python 3",
   "language": "python",
   "name": "python3"
  },
  "language_info": {
   "codemirror_mode": {
    "name": "ipython",
    "version": 3
   },
   "file_extension": ".py",
   "mimetype": "text/x-python",
   "name": "python",
   "nbconvert_exporter": "python",
   "pygments_lexer": "ipython3",
   "version": "3.10.2"
  }
 },
 "nbformat": 4,
 "nbformat_minor": 4
}
